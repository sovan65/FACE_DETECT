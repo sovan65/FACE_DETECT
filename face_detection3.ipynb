{
 "cells": [
  {
   "cell_type": "code",
   "execution_count": 10,
   "id": "8e1f9460-41f1-4e45-b043-d9150b072fec",
   "metadata": {},
   "outputs": [],
   "source": [
    "import cv2"
   ]
  },
  {
   "cell_type": "code",
   "execution_count": null,
   "id": "18fa853f-467a-493c-a0ec-9ed8c6e9cbe4",
   "metadata": {},
   "outputs": [],
   "source": [
    "face_cap = cv2.CascadeClassifier(\"C:/Users/Csesa/AppData/Roaming/Python/Python312/site-packages/cv2/data/haarcascade_frontalface_default.xml\")\n",
    "video_cap = cv2.VideoCapture(0)\n",
    "while True : \n",
    "    ret , video_data = video_cap.read()\n",
    "    col = cv2.cvtColor(video_data,cv2.COLOR_BGR2GRAY)\n",
    "    faces = face_cap.detectMultiScale(\n",
    "        col,\n",
    "        scaleFactor=1.1,\n",
    "        minNeighbors=5,\n",
    "        minSize=(30,30),\n",
    "        flags=cv2.CASCADE_SCALE_IMAGE\n",
    "    )\n",
    "    for(x,y,w,h) in faces:\n",
    "        cv2.rectangle(video_data,(x,y),(x+w,y+h),(1,256,3),5)\n",
    "    cv2.imshow(\"video_live\",video_data)\n",
    "    if cv2.waitKey(10) == ord(\"a\"):\n",
    "         break\n",
    "vedio_cap.release()"
   ]
  },
  {
   "cell_type": "code",
   "execution_count": 6,
   "id": "09931f2f-f9dd-4275-83f3-500205ecdf66",
   "metadata": {},
   "outputs": [],
   "source": [
    "# video_cap = cv2.VideoCapture(0)\n",
    "# while True : \n",
    "#     ret , video_data = video_cap.read()\n",
    "#     cv2.imshow(\"video_live\",video_data)\n",
    "#     if cv2.waitKey(10) == ord(\"a\"):\n",
    "#          break\n",
    "# vedio_cap.release()"
   ]
  },
  {
   "cell_type": "code",
   "execution_count": null,
   "id": "926bbb38-7e88-4c80-a70a-e87f55d7369b",
   "metadata": {},
   "outputs": [],
   "source": []
  },
  {
   "cell_type": "code",
   "execution_count": null,
   "id": "a7348740-4119-4e63-8fff-07cc5110cb84",
   "metadata": {},
   "outputs": [],
   "source": []
  }
 ],
 "metadata": {
  "kernelspec": {
   "display_name": "Python 3 (ipykernel)",
   "language": "python",
   "name": "python3"
  },
  "language_info": {
   "codemirror_mode": {
    "name": "ipython",
    "version": 3
   },
   "file_extension": ".py",
   "mimetype": "text/x-python",
   "name": "python",
   "nbconvert_exporter": "python",
   "pygments_lexer": "ipython3",
   "version": "3.12.4"
  }
 },
 "nbformat": 4,
 "nbformat_minor": 5
}
