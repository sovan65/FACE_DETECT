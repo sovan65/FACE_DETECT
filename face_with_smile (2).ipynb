{
 "cells": [
  {
   "cell_type": "code",
   "execution_count": 1,
   "id": "05f6b179-0e4b-4fb6-b8b0-68804cea421e",
   "metadata": {},
   "outputs": [],
   "source": [
    "import cv2"
   ]
  },
  {
   "cell_type": "code",
   "execution_count": null,
   "id": "ab0c0f9b-58d8-4917-aa24-0e0ea66ba538",
   "metadata": {},
   "outputs": [],
   "source": [
    "\n",
    "\n",
    "# Load the Haar cascade for face detection\n",
    "face_cap = cv2.CascadeClassifier(\"C:/Users/Csesa/AppData/Roaming/Python/Python312/site-packages/cv2/data/haarcascade_frontalface_default.xml\")\n",
    "smile_cap = cv2.CascadeClassifier(\"C:/Users/Csesa/AppData/Roaming/Python/Python312/site-packages/cv2/data/haarcascade_smile.xml\")\n",
    "\n",
    "# Start video capture\n",
    "video_cap = cv2.VideoCapture(0)\n",
    "\n",
    "# Set the desired width and height for the webcam window\n",
    "width = 800\n",
    "height = 600\n",
    "video_cap.set(cv2.CAP_PROP_FRAME_WIDTH, width)\n",
    "video_cap.set(cv2.CAP_PROP_FRAME_HEIGHT, height)\n",
    "\n",
    "while True:\n",
    "    ret, video_data = video_cap.read()\n",
    "    col = cv2.cvtColor(video_data, cv2.COLOR_BGR2GRAY)\n",
    "\n",
    "    # Detect faces\n",
    "    faces = face_cap.detectMultiScale(\n",
    "        col,\n",
    "        scaleFactor=1.1,\n",
    "        minNeighbors=5,\n",
    "        minSize=(30, 30),\n",
    "        flags=cv2.CASCADE_SCALE_IMAGE\n",
    "    )\n",
    "\n",
    "    for (x, y, w, h) in faces:\n",
    "        cv2.rectangle(video_data, (x, y), (x + w, y + h), (0, 255, 0), 5)  # Draw rectangle around face\n",
    "        roi_gray = col[y:y + h, x:x + w]  # Region of interest for smile detection\n",
    "        smiles = smile_cap.detectMultiScale(roi_gray, scaleFactor=1.8, minNeighbors=20)\n",
    "\n",
    "        if len(smiles) > 0:\n",
    "            cv2.putText(video_data, \"Smiling Face\", (x, y - 10), cv2.FONT_HERSHEY_SIMPLEX, 0.9, (255, 0, 0), 2)\n",
    "            for (sx, sy, sw, sh) in smiles:\n",
    "                cv2.rectangle(video_data, (x + sx, y + sy), (x + sx + sw, y + sy + sh), (255, 0, 0), 5)  # Draw rectangle around smile\n",
    "        else:\n",
    "            cv2.putText(video_data, \"Angry Face\", (x, y - 10), cv2.FONT_HERSHEY_SIMPLEX, 0.9, (0, 0, 255), 2)  # Text for angry face\n",
    "\n",
    "    cv2.imshow(\"video_live\", video_data)\n",
    "    if cv2.waitKey(10) == ord(\"a\"):\n",
    "        break\n",
    "\n",
    "video_cap.release()\n",
    "cv2.destroyAllWindows()"
   ]
  },
  {
   "cell_type": "code",
   "execution_count": null,
   "id": "1b4dddf0-2fbf-4448-89b6-907e14210786",
   "metadata": {},
   "outputs": [],
   "source": []
  }
 ],
 "metadata": {
  "kernelspec": {
   "display_name": "Python 3 (ipykernel)",
   "language": "python",
   "name": "python3"
  },
  "language_info": {
   "codemirror_mode": {
    "name": "ipython",
    "version": 3
   },
   "file_extension": ".py",
   "mimetype": "text/x-python",
   "name": "python",
   "nbconvert_exporter": "python",
   "pygments_lexer": "ipython3",
   "version": "3.12.4"
  }
 },
 "nbformat": 4,
 "nbformat_minor": 5
}
